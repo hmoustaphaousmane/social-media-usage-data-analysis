{
 "cells": [
  {
   "cell_type": "markdown",
   "metadata": {},
   "source": [
    "# Clean & Analyse Social Media\n",
    "\n",
    "This project is about social media usage data analysis to help creating comprehensive report that analyses the performance of different categories of social media posts.\n",
    "\n",
    "## Scenario\n",
    "\n",
    "Suppose we work for a social media marketing company that specializes in promoting brands and products on a popular social media platform. Our team is responsible for analyzing the performance of different types of posts based on categories, such as health, family, food, etc. to help clients optimize their social media strategy and increase their reach and engagement.  \n",
    "\n",
    "We want you to use Python to automatically extract tweets posted from one or more categories, and then clean, analyze and visualize the data. The team will use our analysis to  making data-driven recommendations to clients to improve their social media performance. This feature will help the marketing agency deliver tweets on time, within budget, and gain fast results.\n",
    "\n",
    "## Objectives\n",
    "\n",
    "The project objectives are:\n",
    "1. Increase client reach and engagement\n",
    "2. Gain valuable insights that will help improve social media performance\n",
    "3. Achieve their social media goals and provide data-driven recommendations\n",
    "\n",
    "## 1. Importing Required Libraries\n",
    "\n",
    "The first step in every data, machine learning project is to import required libraries. For this project, we'll need the following libraries:\n",
    "- `pandas` for data manipulation and analysis\n",
    "- `Numpy` for numerical computations\n",
    "- `Matplotlib` for data visualization\n",
    "- `Seaborn` for statical data visialization\n",
    "- `Random` for generating random numbers."
   ]
  },
  {
   "cell_type": "code",
   "execution_count": 1,
   "metadata": {},
   "outputs": [],
   "source": [
    "# Import required libraries\n",
    "import pandas as pd\n",
    "import numpy as np\n",
    "import matplotlib.pyplot as plt\n",
    "import seaborn as sns\n",
    "import random"
   ]
  },
  {
   "cell_type": "markdown",
   "metadata": {},
   "source": [
    "## 2. Generating Random Data For The Social Media Data\n",
    "\n",
    "After importing required libraries, let's generate some random tweet data to analyze. To do this, We are going to use pandas `date_range` to choose a pseudo-random date within a range, the random module's `choice` to create a choice from a list, and numpys's `random` to create a random integer. But first we need to define a list of categories for the social media experiment."
   ]
  },
  {
   "cell_type": "code",
   "execution_count": 2,
   "metadata": {},
   "outputs": [],
   "source": [
    "# List of categories\n",
    "categories = ['food', 'travel', 'fashion', 'fitness', 'music', 'culture', 'family', 'health']\n",
    "\n",
    "# Generate random data\n",
    "data = {\n",
    "    'Date': pd.date_range('2022-01-02', periods=500),  # `periods` is the number of timesteps\n",
    "    'Category': [random.choice(categories) for _ in range(500)],  # Generate a list of 500 categories from the list of categories\n",
    "    'Likes': np.random.randint(0, 10000, size=500)  # Generate 5000 integer numbers between 0 and 10000\n",
    "}"
   ]
  },
  {
   "cell_type": "markdown",
   "metadata": {},
   "source": [
    "## 3. Loading the Data into a Pandas DataFrame and Exploring it\n",
    "\n",
    "Now, let's load our randomly generate data into a pandas dataframe and explore it. To do so:\n",
    "1. We'll use pandas `DataFrame()` method to wich we provide our data as parameter.\n",
    "2. We display the dataframe head using the `pandas.DataFrame.head()` method wich returns the first n rows of the object based on position (n=5 by defautl).\n",
    "3. Print the count of each `Category` element using the `value_counts()` method available for `pandas.DataFrame` objects. This method returns a Series containing the frequency of each distinct row in the Dataframe.\n",
    "4. Generate descriptive statistics which includes those that summarize the central tendency, dispersion and shape of a dataset’s distribution, excluding NaN values. Here, we'll use the `pandas.DataFrame.describe()` method which will inform as about:\n",
    "    - count: The number of non-NA/null observations.\n",
    "    - mean: The mean of the values.\n",
    "    - min: The minimum of the values in the object.\n",
    "    - 25%: The lower percentile.\n",
    "    - 50%: The 50 percentile which is the same as the median.\n",
    "    - 75%: The upper percentile.\n",
    "    - max: The maximum of the values in the object.\n",
    "    - std: The standard deviation of the observations.\n",
    "5. Print a concise summary of the dataframe thanks to `pandas.DataFrame.info()`. This method prints information about a DataFrame including the index dtype and columns, non-null values and memory usage."
   ]
  },
  {
   "cell_type": "code",
   "execution_count": 3,
   "metadata": {},
   "outputs": [
    {
     "data": {
      "text/html": [
       "<div>\n",
       "<style scoped>\n",
       "    .dataframe tbody tr th:only-of-type {\n",
       "        vertical-align: middle;\n",
       "    }\n",
       "\n",
       "    .dataframe tbody tr th {\n",
       "        vertical-align: top;\n",
       "    }\n",
       "\n",
       "    .dataframe thead th {\n",
       "        text-align: right;\n",
       "    }\n",
       "</style>\n",
       "<table border=\"1\" class=\"dataframe\">\n",
       "  <thead>\n",
       "    <tr style=\"text-align: right;\">\n",
       "      <th></th>\n",
       "      <th>Date</th>\n",
       "      <th>Category</th>\n",
       "      <th>Likes</th>\n",
       "    </tr>\n",
       "  </thead>\n",
       "  <tbody>\n",
       "    <tr>\n",
       "      <th>0</th>\n",
       "      <td>2022-01-02</td>\n",
       "      <td>fashion</td>\n",
       "      <td>1539</td>\n",
       "    </tr>\n",
       "    <tr>\n",
       "      <th>1</th>\n",
       "      <td>2022-01-03</td>\n",
       "      <td>family</td>\n",
       "      <td>6504</td>\n",
       "    </tr>\n",
       "    <tr>\n",
       "      <th>2</th>\n",
       "      <td>2022-01-04</td>\n",
       "      <td>fitness</td>\n",
       "      <td>6657</td>\n",
       "    </tr>\n",
       "    <tr>\n",
       "      <th>3</th>\n",
       "      <td>2022-01-05</td>\n",
       "      <td>culture</td>\n",
       "      <td>1080</td>\n",
       "    </tr>\n",
       "    <tr>\n",
       "      <th>4</th>\n",
       "      <td>2022-01-06</td>\n",
       "      <td>fashion</td>\n",
       "      <td>5347</td>\n",
       "    </tr>\n",
       "  </tbody>\n",
       "</table>\n",
       "</div>"
      ],
      "text/plain": [
       "        Date Category  Likes\n",
       "0 2022-01-02  fashion   1539\n",
       "1 2022-01-03   family   6504\n",
       "2 2022-01-04  fitness   6657\n",
       "3 2022-01-05  culture   1080\n",
       "4 2022-01-06  fashion   5347"
      ]
     },
     "execution_count": 3,
     "metadata": {},
     "output_type": "execute_result"
    }
   ],
   "source": [
    "# Load data into a pandas dataframe\n",
    "df = pd.DataFrame(data)\n",
    "\n",
    "# Head of the dataframe\n",
    "df.head()"
   ]
  },
  {
   "cell_type": "code",
   "execution_count": 4,
   "metadata": {},
   "outputs": [
    {
     "name": "stdout",
     "output_type": "stream",
     "text": [
      "The shape of the dataframe : (500, 3)\n"
     ]
    }
   ],
   "source": [
    "# Shape of the dataframe\n",
    "print (f\"The shape of the dataframe : {df.shape}\")"
   ]
  },
  {
   "cell_type": "code",
   "execution_count": 5,
   "metadata": {},
   "outputs": [
    {
     "data": {
      "text/plain": [
       "Category\n",
       "travel     76\n",
       "fashion    72\n",
       "food       66\n",
       "family     62\n",
       "culture    61\n",
       "fitness    57\n",
       "music      53\n",
       "health     53\n",
       "Name: count, dtype: int64"
      ]
     },
     "execution_count": 5,
     "metadata": {},
     "output_type": "execute_result"
    }
   ],
   "source": [
    "# Count of each `Category` element\n",
    "df['Category'].value_counts()"
   ]
  },
  {
   "cell_type": "code",
   "execution_count": 6,
   "metadata": {},
   "outputs": [
    {
     "data": {
      "text/html": [
       "<div>\n",
       "<style scoped>\n",
       "    .dataframe tbody tr th:only-of-type {\n",
       "        vertical-align: middle;\n",
       "    }\n",
       "\n",
       "    .dataframe tbody tr th {\n",
       "        vertical-align: top;\n",
       "    }\n",
       "\n",
       "    .dataframe thead th {\n",
       "        text-align: right;\n",
       "    }\n",
       "</style>\n",
       "<table border=\"1\" class=\"dataframe\">\n",
       "  <thead>\n",
       "    <tr style=\"text-align: right;\">\n",
       "      <th></th>\n",
       "      <th>Date</th>\n",
       "      <th>Likes</th>\n",
       "    </tr>\n",
       "  </thead>\n",
       "  <tbody>\n",
       "    <tr>\n",
       "      <th>count</th>\n",
       "      <td>500</td>\n",
       "      <td>500.000000</td>\n",
       "    </tr>\n",
       "    <tr>\n",
       "      <th>mean</th>\n",
       "      <td>2022-09-08 12:00:00</td>\n",
       "      <td>5025.622000</td>\n",
       "    </tr>\n",
       "    <tr>\n",
       "      <th>min</th>\n",
       "      <td>2022-01-02 00:00:00</td>\n",
       "      <td>18.000000</td>\n",
       "    </tr>\n",
       "    <tr>\n",
       "      <th>25%</th>\n",
       "      <td>2022-05-06 18:00:00</td>\n",
       "      <td>2458.250000</td>\n",
       "    </tr>\n",
       "    <tr>\n",
       "      <th>50%</th>\n",
       "      <td>2022-09-08 12:00:00</td>\n",
       "      <td>5213.500000</td>\n",
       "    </tr>\n",
       "    <tr>\n",
       "      <th>75%</th>\n",
       "      <td>2023-01-11 06:00:00</td>\n",
       "      <td>7589.000000</td>\n",
       "    </tr>\n",
       "    <tr>\n",
       "      <th>max</th>\n",
       "      <td>2023-05-16 00:00:00</td>\n",
       "      <td>9977.000000</td>\n",
       "    </tr>\n",
       "    <tr>\n",
       "      <th>std</th>\n",
       "      <td>NaN</td>\n",
       "      <td>2989.830902</td>\n",
       "    </tr>\n",
       "  </tbody>\n",
       "</table>\n",
       "</div>"
      ],
      "text/plain": [
       "                      Date        Likes\n",
       "count                  500   500.000000\n",
       "mean   2022-09-08 12:00:00  5025.622000\n",
       "min    2022-01-02 00:00:00    18.000000\n",
       "25%    2022-05-06 18:00:00  2458.250000\n",
       "50%    2022-09-08 12:00:00  5213.500000\n",
       "75%    2023-01-11 06:00:00  7589.000000\n",
       "max    2023-05-16 00:00:00  9977.000000\n",
       "std                    NaN  2989.830902"
      ]
     },
     "execution_count": 6,
     "metadata": {},
     "output_type": "execute_result"
    }
   ],
   "source": [
    "# Descriptive statictics\n",
    "df.describe()"
   ]
  },
  {
   "cell_type": "code",
   "execution_count": 7,
   "metadata": {},
   "outputs": [
    {
     "name": "stdout",
     "output_type": "stream",
     "text": [
      "<class 'pandas.core.frame.DataFrame'>\n",
      "RangeIndex: 500 entries, 0 to 499\n",
      "Data columns (total 3 columns):\n",
      " #   Column    Non-Null Count  Dtype         \n",
      "---  ------    --------------  -----         \n",
      " 0   Date      500 non-null    datetime64[ns]\n",
      " 1   Category  500 non-null    object        \n",
      " 2   Likes     500 non-null    int64         \n",
      "dtypes: datetime64[ns](1), int64(1), object(1)\n",
      "memory usage: 11.8+ KB\n"
     ]
    }
   ],
   "source": [
    "df.info()"
   ]
  },
  {
   "cell_type": "code",
   "execution_count": 8,
   "metadata": {},
   "outputs": [
    {
     "name": "stdout",
     "output_type": "stream",
     "text": [
      "The number of missing values (na) is each column :\n",
      "Date        0\n",
      "Category    0\n",
      "Likes       0\n",
      "dtype: int64\n"
     ]
    }
   ],
   "source": [
    "# Missing values\n",
    "print(f\"The number of missing values (na) is each column :\\n{df.isna().sum()}\")"
   ]
  },
  {
   "cell_type": "markdown",
   "metadata": {},
   "source": [
    "## 4. Data Cleaning\n",
    "\n",
    "This step is an important one, because it allows us to get ride of invalid data point thus effectively perfom statics and visualization.\n",
    "\n",
    "In order to clean our data, we'll use pandas dataframe built-in functionality for this specific purpose. Here are the steps that we'll go through on this process:\n",
    "- Remove all `Null` or `NaN` data using the dataframe `dropna` method.\n",
    "- Remove duplicate values using\n",
    "- Convert the `Date` field into a `datetime` format using pandas `to_datetime` method.\n",
    "- Convert the `Likes` data to integer."
   ]
  },
  {
   "cell_type": "code",
   "execution_count": 9,
   "metadata": {},
   "outputs": [
    {
     "data": {
      "text/plain": [
       "(500, 3)"
      ]
     },
     "execution_count": 9,
     "metadata": {},
     "output_type": "execute_result"
    }
   ],
   "source": [
    "# Remove NaN values\n",
    "df.dropna(inplace=True)\n",
    "df.shape"
   ]
  },
  {
   "cell_type": "code",
   "execution_count": 10,
   "metadata": {},
   "outputs": [
    {
     "data": {
      "text/plain": [
       "(500, 3)"
      ]
     },
     "execution_count": 10,
     "metadata": {},
     "output_type": "execute_result"
    }
   ],
   "source": [
    "# Remove duplicates\n",
    "df.drop_duplicates(inplace=True)\n",
    "df.shape"
   ]
  },
  {
   "cell_type": "code",
   "execution_count": 11,
   "metadata": {},
   "outputs": [
    {
     "name": "stdout",
     "output_type": "stream",
     "text": [
      "<class 'pandas.core.frame.DataFrame'>\n",
      "RangeIndex: 500 entries, 0 to 499\n",
      "Data columns (total 3 columns):\n",
      " #   Column    Non-Null Count  Dtype         \n",
      "---  ------    --------------  -----         \n",
      " 0   Date      500 non-null    datetime64[ns]\n",
      " 1   Category  500 non-null    object        \n",
      " 2   Likes     500 non-null    int64         \n",
      "dtypes: datetime64[ns](1), int64(1), object(1)\n",
      "memory usage: 11.8+ KB\n"
     ]
    }
   ],
   "source": [
    "df.info()"
   ]
  },
  {
   "cell_type": "code",
   "execution_count": 12,
   "metadata": {},
   "outputs": [
    {
     "data": {
      "text/html": [
       "<div>\n",
       "<style scoped>\n",
       "    .dataframe tbody tr th:only-of-type {\n",
       "        vertical-align: middle;\n",
       "    }\n",
       "\n",
       "    .dataframe tbody tr th {\n",
       "        vertical-align: top;\n",
       "    }\n",
       "\n",
       "    .dataframe thead th {\n",
       "        text-align: right;\n",
       "    }\n",
       "</style>\n",
       "<table border=\"1\" class=\"dataframe\">\n",
       "  <thead>\n",
       "    <tr style=\"text-align: right;\">\n",
       "      <th></th>\n",
       "      <th>Date</th>\n",
       "      <th>Category</th>\n",
       "      <th>Likes</th>\n",
       "    </tr>\n",
       "  </thead>\n",
       "  <tbody>\n",
       "    <tr>\n",
       "      <th>0</th>\n",
       "      <td>2022-01-02</td>\n",
       "      <td>fashion</td>\n",
       "      <td>1539</td>\n",
       "    </tr>\n",
       "    <tr>\n",
       "      <th>1</th>\n",
       "      <td>2022-01-03</td>\n",
       "      <td>family</td>\n",
       "      <td>6504</td>\n",
       "    </tr>\n",
       "    <tr>\n",
       "      <th>2</th>\n",
       "      <td>2022-01-04</td>\n",
       "      <td>fitness</td>\n",
       "      <td>6657</td>\n",
       "    </tr>\n",
       "    <tr>\n",
       "      <th>3</th>\n",
       "      <td>2022-01-05</td>\n",
       "      <td>culture</td>\n",
       "      <td>1080</td>\n",
       "    </tr>\n",
       "    <tr>\n",
       "      <th>4</th>\n",
       "      <td>2022-01-06</td>\n",
       "      <td>fashion</td>\n",
       "      <td>5347</td>\n",
       "    </tr>\n",
       "  </tbody>\n",
       "</table>\n",
       "</div>"
      ],
      "text/plain": [
       "        Date Category  Likes\n",
       "0 2022-01-02  fashion   1539\n",
       "1 2022-01-03   family   6504\n",
       "2 2022-01-04  fitness   6657\n",
       "3 2022-01-05  culture   1080\n",
       "4 2022-01-06  fashion   5347"
      ]
     },
     "execution_count": 12,
     "metadata": {},
     "output_type": "execute_result"
    }
   ],
   "source": [
    "# Convert Date to datetime format\n",
    "df['Date'] = pd.to_datetime(df['Date'])\n",
    "\n",
    "# Convert Likes to integer\n",
    "df['Likes'].astype('int')  # df['Likes'] = pd.to_numeric(df['Likes'])\n",
    "df.head()"
   ]
  },
  {
   "cell_type": "markdown",
   "metadata": {},
   "source": [
    "Since we generated our data, it is already clean: no nan values neither duplicates, Date and Likes data are in the intended type as well."
   ]
  },
  {
   "cell_type": "markdown",
   "metadata": {},
   "source": [
    "## 5. Data Visualization\n",
    "\n",
    "In this section, we'll visualize our data for a better understanding. In fact, an important aspect of data analysis is the ability to physically view it to visually observe relationships among the data using  charts and graphs. The second way to analyze the data is to perform statistics on it.\n",
    "- We'll compute the average First, then visualize the data using the seaborn module in a histogram plot of the Likes. This is accomplished using the method `histplot`, passing in the dataframe field ‘Likes’ as in df[‘Likes’]. In order to have the histogram show up in the output, we'll use the MathPlotLib.pyplot’s `show` method.\n",
    "- Create a boxplot using seaborn's `boxplot` method with the x axis as ‘Category’, and the y axis as ‘Likes’. As before, we should always remember to call the pyplot’s `show` method to see the boxplot output.\n",
    "- Perform some statistics on the data:\n",
    "   - print out the mean of the ‘Likes’ catregory.\n",
    "   - use the dataframe’s groupby method to print out the mean of each Category ‘Likes’\n",
    "- Create a pie plot of the ‘Likes’ per ‘Category’ using MathPlotLib.pyplot's `pie` method."
   ]
  },
  {
   "cell_type": "code",
   "execution_count": 13,
   "metadata": {},
   "outputs": [
    {
     "data": {
      "image/png": "[encoded data removed]",
      "text/plain": [
       "<Figure size 640x480 with 1 Axes>"
      ]
     },
     "metadata": {},
     "output_type": "display_data"
    }
   ],
   "source": [
    "# Seaborn histogram plot of the Likes\n",
    "sns.histplot(df['Likes'])\n",
    "plt.show()"
   ]
  },
  {
   "cell_type": "code",
   "execution_count": 14,
   "metadata": {},
   "outputs": [
    {
     "data": {
      "image/png": "[encoded data removed]",
      "text/plain": [
       "<Figure size 640x480 with 1 Axes>"
      ]
     },
     "metadata": {},
     "output_type": "display_data"
    }
   ],
   "source": [
    "# Boxplot with the x axis as ‘Category’, and the y axis as ‘Likes’\n",
    "sns.boxplot(data=df, x=df['Category'], y=df['Likes'])\n",
    "plt.show()"
   ]
  },
  {
   "cell_type": "code",
   "execution_count": 15,
   "metadata": {},
   "outputs": [
    {
     "data": {
      "text/plain": [
       "5025.622"
      ]
     },
     "execution_count": 15,
     "metadata": {},
     "output_type": "execute_result"
    }
   ],
   "source": [
    "df['Likes'].mean()"
   ]
  },
  {
   "cell_type": "code",
   "execution_count": 16,
   "metadata": {},
   "outputs": [
    {
     "data": {
      "text/plain": [
       "Category\n",
       "culture    5167.180328\n",
       "family     4809.935484\n",
       "fashion    4880.458333\n",
       "fitness    6018.245614\n",
       "food       5042.181818\n",
       "health     4586.056604\n",
       "music      5199.283019\n",
       "travel     4652.065789\n",
       "Name: Likes, dtype: float64"
      ]
     },
     "execution_count": 16,
     "metadata": {},
     "output_type": "execute_result"
    }
   ],
   "source": [
    "df.groupby('Category')['Likes'].mean()"
   ]
  },
  {
   "cell_type": "code",
   "execution_count": 17,
   "metadata": {},
   "outputs": [
    {
     "data": {
      "image/png": "[encoded data removed]",
      "text/plain": [
       "<Figure size 640x480 with 1 Axes>"
      ]
     },
     "metadata": {},
     "output_type": "display_data"
    }
   ],
   "source": [
    "variable_counts = df['Category'].value_counts()\n",
    "# print(variable_counts)\n",
    "variable_values = variable_counts.index\n",
    "plt.pie(variable_counts, labels = variable_values)\n",
    "plt.title('Likes')\n",
    "plt.show()"
   ]
  },
  {
   "cell_type": "markdown",
   "metadata": {},
   "source": [
    "## Conclusion\n",
    "\n",
    "In this project, we undertook a comprehensive analysis of social media usage data to generate insights into the performance of different categories of social media posts. The goal was to assist a social media marketing company in optimizing their clients' social media strategies by identifying trends and engagement metrics across various categories such as health, family, food, and more. The following three points showcase an overview of the process used in this project:\n",
    "- Data Generation:\n",
    "    We began by importing essential Python libraries for data manipulation, numerical computations, and visualization. Then, we generated random tweet, simulating real-world social media data. This included creating 500 data points with random dates, categories, and like counts.\n",
    "\n",
    "- Data Exploration and Cleaning:\n",
    "    Here, we loaded the generated data into a pandas DataFrame and explored its structure through various methods. Then we utilized descriptive statistics to summarize data characteristics such as count, mean, min, max, and standard deviation. And finally ensured data cleanliness by checking for and handling null values, duplicates, and verifying data types were appropriate for analysis.\n",
    "\n",
    "- Data Analysis and Visualization:\n",
    "    In this part, we visualized the distribution of likes with histograms and boxplots to understand the spread and central tendencies across different categories. Also, we computed category-wise average likes and visualized the proportion of likes per category using pie charts.\n",
    "\n",
    "Now that we have an idea on the process used, let's discuss the key findings of this project. These key findings can be separated into two categories: engagement patters and data distributon. In the first category we can note that the category 'food' showed the highest average likes, indicating strong engagement in this area and categories such as 'fitness' and 'family' had relatively lower average likes, suggesting potential areas for strategy improvement. As for the data distribution, the histogram of likes revealed a wide range of engagement levels, with most posts receiving between 2500 and 7500 likes. Then, boxplots highlighted outliers and variability within categories, essential for understanding category-specific engagement dynamics.\n",
    "\n",
    "This project could be improved by using real data titegration and advanced analytics. In fact, incorporating actual social media data would enhance the relevance and applicability of the findings while employing machine learning techniques to predict engagement trends and personalize content recommendations could further elevate the analytical capabilities. Also, developing interactive visual dashboards would allow clients to explore data dynamically, facilitating more informed decision-making."
   ]
  }
 ],
 "metadata": {
  "kernelspec": {
   "display_name": "base",
   "language": "python",
   "name": "python3"
  },
  "language_info": {
   "codemirror_mode": {
    "name": "ipython",
    "version": 3
   },
   "file_extension": ".py",
   "mimetype": "text/x-python",
   "name": "python",
   "nbconvert_exporter": "python",
   "pygments_lexer": "ipython3",
   "version": "3.11.5"
  }
 },
 "nbformat": 4,
 "nbformat_minor": 2
}
