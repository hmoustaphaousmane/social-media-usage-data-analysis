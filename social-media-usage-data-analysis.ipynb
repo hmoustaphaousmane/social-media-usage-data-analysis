{
 "cells": [
  {
   "cell_type": "markdown",
   "metadata": {},
   "source": [
    "# Clean & Analyse Social Media\n",
    "\n",
    "This project is about social media usage data analysis to help creating comprehensive report that analyses the performance of different categories of social media posts.\n",
    "\n",
    "## Scenario\n",
    "\n",
    "Suppose we work for a social media marketing company that specializes in promoting brands and products on a popular social media platform. Our team is responsible for analyzing the performance of different types of posts based on categories, such as health, family, food, etc. to help clients optimize their social media strategy and increase their reach and engagement.  \n",
    "\n",
    "We want you to use Python to automatically extract tweets posted from one or more categories, and then clean, analyze and visualize the data. The team will use our analysis to  making data-driven recommendations to clients to improve their social media performance. This feature will help the marketing agency deliver tweets on time, within budget, and gain fast results.\n",
    "\n",
    "## Objectives\n",
    "\n",
    "The project objectives are:\n",
    "1. Increase client reach and engagement\n",
    "2. Gain valuable insights that will help improve social media performance\n",
    "3. Achieve their social media goals and provide data-driven recommendations\n",
    "\n",
    "## 1. Importing Required Libraries\n",
    "\n",
    "The first step in every data, machine learning project is to import required libraries. For this project, we'll need the following libraries:\n",
    "- `pandas` for data manipulation and analysis\n",
    "- `Numpy` for numerical computations\n",
    "- `Matplotlib` for data visualization\n",
    "- `Seaborn` for statical data visialization\n",
    "- `Random` for generating random numbers."
   ]
  },
  {
   "cell_type": "code",
   "execution_count": 1,
   "metadata": {},
   "outputs": [],
   "source": [
    "# Import required libraries\n",
    "import pandas as pd\n",
    "import numpy as np\n",
    "import matplotlib.pyplot as plt\n",
    "import seaborn as sns\n",
    "import random"
   ]
  },
  {
   "cell_type": "markdown",
   "metadata": {},
   "source": [
    "## 2. Generating Random Data For The Social Media Data\n",
    "\n",
    "After importing required libraries, let's generate some random tweet data to analyze. To do this, We are going to use pandas `date_range` to choose a pseudo-random date within a range, the random module's `choice` to create a choice from a list, and numpys's `random` to create a random integer. But first we need to define a list of categories for the social media experiment."
   ]
  },
  {
   "cell_type": "code",
   "execution_count": 2,
   "metadata": {},
   "outputs": [],
   "source": [
    "# List of categories\n",
    "categories = ['food', 'travel', 'fashion', 'fitness', 'music', 'culture', 'family', 'health']\n",
    "\n",
    "# Generate random data\n",
    "data = {\n",
    "    'Date': pd.date_range('2022-01-02', periods=500),  # `periods` is the number of timesteps\n",
    "    'Category': [random.choice(categories) for _ in range(500)],  # Generate a list of 500 categories from the list of categories\n",
    "    'Likes': np.random.randint(0, 10000, size=500)  # Generate 5000 integer numbers between 0 and 10000\n",
    "}"
   ]
  },
  {
   "cell_type": "markdown",
   "metadata": {},
   "source": [
    "## 3. Loading the Data into a Pandas DataFrame and Exploring it\n",
    "\n",
    "Now, let's load our randomly generate data into a pandas dataframe and explore it. To do so:\n",
    "1. We'll use pandas `DataFrame()` method to wich we provide our data as parameter.\n",
    "2. We display the dataframe head using the `pandas.DataFrame.head()` method wich returns the first n rows of the object based on position (n=5 by defautl).\n",
    "3. Print the count of each `Category` element using the `value_counts()` method available for `pandas.DataFrame` objects. This method returns a Series containing the frequency of each distinct row in the Dataframe.\n",
    "4. Generate descriptive statistics which includes those that summarize the central tendency, dispersion and shape of a dataset’s distribution, excluding NaN values. Here, we'll use the `pandas.DataFrame.describe()` method which will inform as about:\n",
    "    - count: The number of non-NA/null observations.\n",
    "    - mean: The mean of the values.\n",
    "    - min: The minimum of the values in the object.\n",
    "    - 25%: The lower percentile.\n",
    "    - 50%: The 50 percentile which is the same as the median.\n",
    "    - 75%: The upper percentile.\n",
    "    - max: The maximum of the values in the object.\n",
    "    - std: The standard deviation of the observations.\n",
    "5. Print a concise summary of the dataframe thanks to `pandas.DataFrame.info()`. This method prints information about a DataFrame including the index dtype and columns, non-null values and memory usage."
   ]
  },
  {
   "cell_type": "code",
   "execution_count": 3,
   "metadata": {},
   "outputs": [
    {
     "data": {
      "text/html": [
       "<div>\n",
       "<style scoped>\n",
       "    .dataframe tbody tr th:only-of-type {\n",
       "        vertical-align: middle;\n",
       "    }\n",
       "\n",
       "    .dataframe tbody tr th {\n",
       "        vertical-align: top;\n",
       "    }\n",
       "\n",
       "    .dataframe thead th {\n",
       "        text-align: right;\n",
       "    }\n",
       "</style>\n",
       "<table border=\"1\" class=\"dataframe\">\n",
       "  <thead>\n",
       "    <tr style=\"text-align: right;\">\n",
       "      <th></th>\n",
       "      <th>Date</th>\n",
       "      <th>Category</th>\n",
       "      <th>Likes</th>\n",
       "    </tr>\n",
       "  </thead>\n",
       "  <tbody>\n",
       "    <tr>\n",
       "      <th>0</th>\n",
       "      <td>2022-01-02</td>\n",
       "      <td>health</td>\n",
       "      <td>3737</td>\n",
       "    </tr>\n",
       "    <tr>\n",
       "      <th>1</th>\n",
       "      <td>2022-01-03</td>\n",
       "      <td>music</td>\n",
       "      <td>2975</td>\n",
       "    </tr>\n",
       "    <tr>\n",
       "      <th>2</th>\n",
       "      <td>2022-01-04</td>\n",
       "      <td>family</td>\n",
       "      <td>2380</td>\n",
       "    </tr>\n",
       "    <tr>\n",
       "      <th>3</th>\n",
       "      <td>2022-01-05</td>\n",
       "      <td>food</td>\n",
       "      <td>4975</td>\n",
       "    </tr>\n",
       "    <tr>\n",
       "      <th>4</th>\n",
       "      <td>2022-01-06</td>\n",
       "      <td>fashion</td>\n",
       "      <td>2901</td>\n",
       "    </tr>\n",
       "  </tbody>\n",
       "</table>\n",
       "</div>"
      ],
      "text/plain": [
       "        Date Category  Likes\n",
       "0 2022-01-02   health   3737\n",
       "1 2022-01-03    music   2975\n",
       "2 2022-01-04   family   2380\n",
       "3 2022-01-05     food   4975\n",
       "4 2022-01-06  fashion   2901"
      ]
     },
     "execution_count": 3,
     "metadata": {},
     "output_type": "execute_result"
    }
   ],
   "source": [
    "# Load data into a pandas dataframe\n",
    "df = pd.DataFrame(data)\n",
    "\n",
    "# Head of the dataframe\n",
    "df.head()"
   ]
  },
  {
   "cell_type": "code",
   "execution_count": 4,
   "metadata": {},
   "outputs": [
    {
     "name": "stdout",
     "output_type": "stream",
     "text": [
      "The shape of the dataframe : (500, 3)\n"
     ]
    }
   ],
   "source": [
    "# Shape of the dataframe\n",
    "print (f\"The shape of the dataframe : {df.shape}\")"
   ]
  },
  {
   "cell_type": "code",
   "execution_count": 5,
   "metadata": {},
   "outputs": [
    {
     "data": {
      "text/plain": [
       "Category\n",
       "health     74\n",
       "food       71\n",
       "fitness    69\n",
       "fashion    67\n",
       "travel     59\n",
       "music      58\n",
       "culture    52\n",
       "family     50\n",
       "Name: count, dtype: int64"
      ]
     },
     "execution_count": 5,
     "metadata": {},
     "output_type": "execute_result"
    }
   ],
   "source": [
    "# Count of each `Category` element\n",
    "df['Category'].value_counts()"
   ]
  },
  {
   "cell_type": "code",
   "execution_count": 6,
   "metadata": {},
   "outputs": [
    {
     "data": {
      "text/html": [
       "<div>\n",
       "<style scoped>\n",
       "    .dataframe tbody tr th:only-of-type {\n",
       "        vertical-align: middle;\n",
       "    }\n",
       "\n",
       "    .dataframe tbody tr th {\n",
       "        vertical-align: top;\n",
       "    }\n",
       "\n",
       "    .dataframe thead th {\n",
       "        text-align: right;\n",
       "    }\n",
       "</style>\n",
       "<table border=\"1\" class=\"dataframe\">\n",
       "  <thead>\n",
       "    <tr style=\"text-align: right;\">\n",
       "      <th></th>\n",
       "      <th>Date</th>\n",
       "      <th>Likes</th>\n",
       "    </tr>\n",
       "  </thead>\n",
       "  <tbody>\n",
       "    <tr>\n",
       "      <th>count</th>\n",
       "      <td>500</td>\n",
       "      <td>500.000000</td>\n",
       "    </tr>\n",
       "    <tr>\n",
       "      <th>mean</th>\n",
       "      <td>2022-09-08 12:00:00</td>\n",
       "      <td>4961.836000</td>\n",
       "    </tr>\n",
       "    <tr>\n",
       "      <th>min</th>\n",
       "      <td>2022-01-02 00:00:00</td>\n",
       "      <td>41.000000</td>\n",
       "    </tr>\n",
       "    <tr>\n",
       "      <th>25%</th>\n",
       "      <td>2022-05-06 18:00:00</td>\n",
       "      <td>2618.500000</td>\n",
       "    </tr>\n",
       "    <tr>\n",
       "      <th>50%</th>\n",
       "      <td>2022-09-08 12:00:00</td>\n",
       "      <td>5180.500000</td>\n",
       "    </tr>\n",
       "    <tr>\n",
       "      <th>75%</th>\n",
       "      <td>2023-01-11 06:00:00</td>\n",
       "      <td>7463.250000</td>\n",
       "    </tr>\n",
       "    <tr>\n",
       "      <th>max</th>\n",
       "      <td>2023-05-16 00:00:00</td>\n",
       "      <td>9989.000000</td>\n",
       "    </tr>\n",
       "    <tr>\n",
       "      <th>std</th>\n",
       "      <td>NaN</td>\n",
       "      <td>2880.269088</td>\n",
       "    </tr>\n",
       "  </tbody>\n",
       "</table>\n",
       "</div>"
      ],
      "text/plain": [
       "                      Date        Likes\n",
       "count                  500   500.000000\n",
       "mean   2022-09-08 12:00:00  4961.836000\n",
       "min    2022-01-02 00:00:00    41.000000\n",
       "25%    2022-05-06 18:00:00  2618.500000\n",
       "50%    2022-09-08 12:00:00  5180.500000\n",
       "75%    2023-01-11 06:00:00  7463.250000\n",
       "max    2023-05-16 00:00:00  9989.000000\n",
       "std                    NaN  2880.269088"
      ]
     },
     "execution_count": 6,
     "metadata": {},
     "output_type": "execute_result"
    }
   ],
   "source": [
    "# Descriptive statictics\n",
    "df.describe()"
   ]
  },
  {
   "cell_type": "code",
   "execution_count": 7,
   "metadata": {},
   "outputs": [
    {
     "name": "stdout",
     "output_type": "stream",
     "text": [
      "<class 'pandas.core.frame.DataFrame'>\n",
      "RangeIndex: 500 entries, 0 to 499\n",
      "Data columns (total 3 columns):\n",
      " #   Column    Non-Null Count  Dtype         \n",
      "---  ------    --------------  -----         \n",
      " 0   Date      500 non-null    datetime64[ns]\n",
      " 1   Category  500 non-null    object        \n",
      " 2   Likes     500 non-null    int64         \n",
      "dtypes: datetime64[ns](1), int64(1), object(1)\n",
      "memory usage: 11.8+ KB\n"
     ]
    }
   ],
   "source": [
    "df.info()"
   ]
  },
  {
   "cell_type": "code",
   "execution_count": 8,
   "metadata": {},
   "outputs": [
    {
     "name": "stdout",
     "output_type": "stream",
     "text": [
      "The number of missing values (na) is each column :\n",
      "Date        0\n",
      "Category    0\n",
      "Likes       0\n",
      "dtype: int64\n"
     ]
    }
   ],
   "source": [
    "# Missing values\n",
    "print(f\"The number of missing values (na) is each column :\\n{df.isna().sum()}\")"
   ]
  },
  {
   "cell_type": "code",
   "execution_count": null,
   "metadata": {},
   "outputs": [],
   "source": []
  }
 ],
 "metadata": {
  "kernelspec": {
   "display_name": "base",
   "language": "python",
   "name": "python3"
  },
  "language_info": {
   "codemirror_mode": {
    "name": "ipython",
    "version": 3
   },
   "file_extension": ".py",
   "mimetype": "text/x-python",
   "name": "python",
   "nbconvert_exporter": "python",
   "pygments_lexer": "ipython3",
   "version": "3.11.5"
  }
 },
 "nbformat": 4,
 "nbformat_minor": 2
}
