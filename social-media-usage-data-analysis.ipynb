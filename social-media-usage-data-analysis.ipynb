{
 "cells": [
  {
   "cell_type": "markdown",
   "metadata": {},
   "source": [
    "# Clean & Analyse Social Media\n",
    "\n",
    "This project is about social media usage data analysis to help creating comprehensive report that analyses the performance of different categories of social media posts.\n",
    "\n",
    "## Scenario\n",
    "\n",
    "Suppose we work for a social media marketing company that specializes in promoting brands and products on a popular social media platform. Our team is responsible for analyzing the performance of different types of posts based on categories, such as health, family, food, etc. to help clients optimize their social media strategy and increase their reach and engagement.  \n",
    "\n",
    "We want you to use Python to automatically extract tweets posted from one or more categories, and then clean, analyze and visualize the data. The team will use our analysis to  making data-driven recommendations to clients to improve their social media performance. This feature will help the marketing agency deliver tweets on time, within budget, and gain fast results.\n",
    "\n",
    "## Objectives\n",
    "\n",
    "The project objectives are:\n",
    "1. Increase client reach and engagement\n",
    "2. Gain valuable insights that will help improve social media performance\n",
    "3. Achieve their social media goals and provide data-driven recommendations\n",
    "\n",
    "## 1. Importing Required Libraries\n",
    "\n",
    "The first step in every data, machine learning project is to import required libraries. For this project, we'll need the following libraries:\n",
    "- `pandas` for data manipulation and analysis\n",
    "- `Numpy` for numerical computations\n",
    "- `Matplotlib` for data visualization\n",
    "- `Seaborn` for statical data visialization\n",
    "- `Random` for generating random numbers."
   ]
  },
  {
   "cell_type": "code",
   "execution_count": 1,
   "metadata": {},
   "outputs": [],
   "source": [
    "# Import required libraries\n",
    "import pandas as pd\n",
    "import numpy as np\n",
    "import matplotlib.pyplot as plt\n",
    "import seaborn as sns\n",
    "import random"
   ]
  },
  {
   "cell_type": "markdown",
   "metadata": {},
   "source": [
    "## 2. Generating Random Data For The Social Media Data\n",
    "\n",
    "After importing required libraries, let's generate some random tweet data to analyze. To do this, We are going to use pandas `date_range` to choose a pseudo-random date within a range, the random module's `choice` to create a choice from a list, and numpys's `random` to create a random integer. But first we need to define a list of categories for the social media experiment."
   ]
  },
  {
   "cell_type": "code",
   "execution_count": 2,
   "metadata": {},
   "outputs": [],
   "source": [
    "# List of categories\n",
    "categories = ['food', 'travel', 'fashion', 'fitness', 'music', 'culture', 'family', 'health']\n",
    "\n",
    "# Generate random data\n",
    "data = {\n",
    "    'Date': pd.date_range('2022-01-02', periods=500),  # `periods` is the number of timesteps\n",
    "    'Category': [random.choice(categories) for _ in range(500)],  # Generate a list of 500 categories from the list of categories\n",
    "    'Likes': np.random.randint(0, 10000, size=500)  # Generate 5000 integer numbers between 0 and 10000\n",
    "}"
   ]
  },
  {
   "cell_type": "code",
   "execution_count": null,
   "metadata": {},
   "outputs": [],
   "source": []
  }
 ],
 "metadata": {
  "kernelspec": {
   "display_name": "base",
   "language": "python",
   "name": "python3"
  },
  "language_info": {
   "codemirror_mode": {
    "name": "ipython",
    "version": 3
   },
   "file_extension": ".py",
   "mimetype": "text/x-python",
   "name": "python",
   "nbconvert_exporter": "python",
   "pygments_lexer": "ipython3",
   "version": "3.11.5"
  }
 },
 "nbformat": 4,
 "nbformat_minor": 2
}
